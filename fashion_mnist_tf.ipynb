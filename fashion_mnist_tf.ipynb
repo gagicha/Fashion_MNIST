{
 "cells": [
  {
   "cell_type": "code",
   "execution_count": null,
   "metadata": {},
   "outputs": [],
   "source": [
    "import tensorflow as tf\n",
    "gpus = tf.config.experimental.list_physical_devices('GPU')\n",
    "tf.config.experimental.set_memory_growth(gpus[0], True)\n",
    "from tensorflow import keras\n",
    "import numpy as np\n",
    "import matplotlib.pyplot as plt"
   ]
  },
  {
   "cell_type": "code",
   "execution_count": 2,
   "metadata": {},
   "outputs": [
    {
     "data": {
      "text/plain": [
       "'/device:GPU:0'"
      ]
     },
     "execution_count": 2,
     "metadata": {},
     "output_type": "execute_result"
    }
   ],
   "source": [
    "tf.test.gpu_device_name()"
   ]
  },
  {
   "cell_type": "code",
   "execution_count": 2,
   "metadata": {},
   "outputs": [],
   "source": [
    "data= keras.datasets.fashion_mnist\n",
    "\n",
    "(train_images, train_labels), (test_images, test_labels)= data.load_data()\n",
    "\n",
    "class_names= ['T-shirt/Top', 'Trouser', 'Pullover', 'Dress', 'Coat', 'Sandal', 'Shirt', 'Sneaker', 'Bag', 'Ankle boot']"
   ]
  },
  {
   "cell_type": "code",
   "execution_count": 3,
   "metadata": {},
   "outputs": [
    {
     "data": {
      "image/png": "[encoded data removed]",
      "text/plain": [
       "<Figure size 432x288 with 1 Axes>"
      ]
     },
     "metadata": {
      "needs_background": "light"
     },
     "output_type": "display_data"
    }
   ],
   "source": [
    "plt.imshow(train_images[7])\n",
    "plt.show()"
   ]
  },
  {
   "cell_type": "code",
   "execution_count": 4,
   "metadata": {},
   "outputs": [
    {
     "data": {
      "text/plain": [
       "(60000, 28, 28)"
      ]
     },
     "execution_count": 4,
     "metadata": {},
     "output_type": "execute_result"
    }
   ],
   "source": [
    "train_images.shape"
   ]
  },
  {
   "cell_type": "code",
   "execution_count": 5,
   "metadata": {},
   "outputs": [
    {
     "data": {
      "text/plain": [
       "array([[  0,   0,   0,   0,   0,   1,   1,   0,   0,   0,   0,  63,  28,\n",
       "          0,   0,   0,  33,  85,   0,   0,   0,   0,   0,   0,   0,   0,\n",
       "          0,   0],\n",
       "       [  0,   0,   0,   0,   0,   2,   0,   0,  28, 126, 241, 255, 255,\n",
       "        255, 255, 255, 255, 252, 248, 111,   0,   0,   0,   2,   0,   0,\n",
       "          0,   0],\n",
       "       [  0,   0,   0,   0,   2,   0,   0, 206, 244, 251, 241, 230, 238,\n",
       "        221, 205, 230, 240, 230, 239, 251, 233, 165,   0,   0,   2,   0,\n",
       "          0,   0],\n",
       "       [  0,   0,   0,   1,   0,   0, 199, 251, 228, 234, 233, 236, 235,\n",
       "        245, 247, 237, 234, 239, 230, 230, 235, 255, 176,   0,   0,   1,\n",
       "          0,   0],\n",
       "       [  0,   0,   0,   0,   0,  81, 254, 226, 228, 239, 237, 236, 234,\n",
       "        232, 233, 235, 235, 236, 239, 237, 233, 225, 246,  73,   0,   0,\n",
       "          0,   0],\n",
       "       [  0,   0,   3,   0,   0, 255, 235, 239, 223, 234, 238, 236, 237,\n",
       "        236, 235, 235, 235, 235, 236, 235, 234, 230, 231, 255,  24,   0,\n",
       "          4,   0],\n",
       "       [  0,   0,   0,   0, 177, 239, 223, 254, 223, 232, 234, 234, 236,\n",
       "        236, 235, 235, 235, 235, 235, 234, 231, 233, 222, 246,  88,   0,\n",
       "          1,   0],\n",
       "       [  0,   0,   0,   0, 234, 239, 229, 255, 220, 232, 233, 232, 234,\n",
       "        235, 235, 235, 235, 235, 234, 233, 232, 230, 228, 254, 140,   0,\n",
       "          0,   0],\n",
       "       [  0,   0,   0,   0, 225, 240, 226, 255, 221, 227, 232, 228, 231,\n",
       "        230, 228, 229, 231, 230, 228, 228, 232, 223, 229, 244, 231,   0,\n",
       "          0,   0],\n",
       "       [  0,   0,   0,  47, 245, 231, 234, 249, 229, 221, 229, 225, 229,\n",
       "        227, 226, 227, 228, 227, 228, 229, 228, 224, 246, 240, 227,   0,\n",
       "          0,   0],\n",
       "       [  0,   0,   0,  51, 248, 230, 245, 246, 230, 226, 230, 227, 230,\n",
       "        229, 228, 229, 230, 228, 228, 231, 225, 227, 242, 237, 255,   0,\n",
       "          0,   0],\n",
       "       [  0,   0,   0, 101, 253, 229, 247, 241, 221, 233, 228, 227, 229,\n",
       "        228, 227, 228, 230, 227, 230, 234, 225, 229, 251, 229, 243,  55,\n",
       "          0,   0],\n",
       "       [  0,   0,   0, 102, 255, 227, 242, 241, 221, 234, 223, 230, 228,\n",
       "        231, 229, 231, 231, 227, 229, 241, 219, 236, 254, 225, 250, 167,\n",
       "          0,   0],\n",
       "       [  0,   0,   0,  90, 255, 229, 236, 231, 222, 236, 223, 231, 229,\n",
       "        231, 229, 231, 231, 228, 224, 245, 218, 243, 239, 227, 244, 175,\n",
       "          0,   0],\n",
       "       [  0,   0,   0, 212, 250, 225, 236, 249, 229, 237, 223, 231, 229,\n",
       "        231, 229, 231, 231, 230, 221, 243, 225, 248, 230, 236, 234, 255,\n",
       "          1,   0],\n",
       "       [  0,   0,   0, 245, 243, 232, 243, 218, 228, 238, 222, 231, 229,\n",
       "        231, 229, 231, 231, 230, 222, 237, 237, 252, 229, 239, 240, 223,\n",
       "          0,   0],\n",
       "       [  0,   0,  27, 255, 235, 242, 237, 216, 230, 236, 224, 229, 227,\n",
       "        233, 233, 233, 230, 228, 224, 230, 245, 247, 221, 243, 239, 252,\n",
       "          0,   0],\n",
       "       [  0,   0,  88, 255, 232, 248, 236, 208, 234, 231, 223, 227, 226,\n",
       "        233, 232, 232, 230, 228, 224, 224, 235, 233, 234, 247, 235, 255,\n",
       "          0,   0],\n",
       "       [  0,   0,  83, 255, 225, 250, 237, 224, 236, 229, 225, 225, 227,\n",
       "        235, 229, 231, 230, 230, 227, 221, 227, 221, 239, 250, 231, 255,\n",
       "          0,   0],\n",
       "       [  0,   0,  20, 255, 224, 248, 234, 226, 232, 222, 225, 224, 231,\n",
       "        238, 226, 230, 228, 230, 230, 221, 229, 225, 244, 246, 230, 255,\n",
       "          0,   0],\n",
       "       [  0,   0,  95, 255, 218, 242, 255, 232, 226, 224, 229, 228, 228,\n",
       "        232, 228, 229, 231, 233, 232, 226, 221, 224, 247, 244, 228, 255,\n",
       "          0,   0],\n",
       "       [  0,   0, 167, 255, 213, 235, 255,  81, 245, 251, 238, 236, 230,\n",
       "        229, 230, 229, 230, 231, 238, 240, 255, 192, 255, 239, 228, 255,\n",
       "         23,   0],\n",
       "       [  0,   0, 173, 242, 224, 233, 255,   0, 136, 226, 239, 255, 229,\n",
       "        236, 236, 234, 233, 228, 251, 248, 200,  81, 255, 237, 225, 255,\n",
       "        101,   0],\n",
       "       [  0,   0, 172, 255, 226, 233, 255,   0,   0,   0,   0,   0,   8,\n",
       "         21,  22,  21,  20,  14,   0,   0,   0,   0, 255, 238, 229, 246,\n",
       "        178,   0],\n",
       "       [  0,   0,  16, 255, 236, 238, 252,   0,   0,   0,   0,   0,   0,\n",
       "          0,   0,   0,   0,   0,   0,   0,   0,   0, 222, 244, 222, 254,\n",
       "        119,   0],\n",
       "       [  0,   0,   0,  30, 228, 242, 163,   0,   0,   0,   0,   2,   4,\n",
       "          6,   5,   5,   4,   4,   2,   0,   1,   0, 151, 251, 235, 180,\n",
       "          0,   0],\n",
       "       [  0,   0,   0,   0, 234, 255, 191,   0,  11,   0,   0,   0,   0,\n",
       "          0,   0,   0,   0,   0,   0,   0,   4,   0, 103, 246, 247,  72,\n",
       "          0,   0],\n",
       "       [  0,   0,   0,   1,  95,  77,  52,   0,   4,   0,   0,   0,   0,\n",
       "          0,   0,   0,   0,   0,   0,   0,   3,   0,  82, 237, 231,  70,\n",
       "          0,   0]], dtype=uint8)"
      ]
     },
     "execution_count": 5,
     "metadata": {},
     "output_type": "execute_result"
    }
   ],
   "source": [
    "# 60,000 images, each image is 28*28 with rgb pixel values till range 255(black). \n",
    "train_images[7]"
   ]
  },
  {
   "cell_type": "code",
   "execution_count": 6,
   "metadata": {},
   "outputs": [],
   "source": [
    "# normalize the data to be within 0-1 range\n",
    "train_images= train_images/255.0\n",
    "test_images= test_images/255.0"
   ]
  },
  {
   "cell_type": "code",
   "execution_count": 7,
   "metadata": {},
   "outputs": [
    {
     "data": {
      "text/plain": [
       "array([[0.        , 0.        , 0.        , 0.        , 0.        ,\n",
       "        0.00392157, 0.00392157, 0.        , 0.        , 0.        ,\n",
       "        0.        , 0.24705882, 0.10980392, 0.        , 0.        ,\n",
       "        0.        , 0.12941176, 0.33333333, 0.        , 0.        ,\n",
       "        0.        , 0.        , 0.        , 0.        , 0.        ,\n",
       "        0.        , 0.        , 0.        ],\n",
       "       [0.        , 0.        , 0.        , 0.        , 0.        ,\n",
       "        0.00784314, 0.        , 0.        , 0.10980392, 0.49411765,\n",
       "        0.94509804, 1.        , 1.        , 1.        , 1.        ,\n",
       "        1.        , 1.        , 0.98823529, 0.97254902, 0.43529412,\n",
       "        0.        , 0.        , 0.        , 0.00784314, 0.        ,\n",
       "        0.        , 0.        , 0.        ],\n",
       "       [0.        , 0.        , 0.        , 0.        , 0.00784314,\n",
       "        0.        , 0.        , 0.80784314, 0.95686275, 0.98431373,\n",
       "        0.94509804, 0.90196078, 0.93333333, 0.86666667, 0.80392157,\n",
       "        0.90196078, 0.94117647, 0.90196078, 0.9372549 , 0.98431373,\n",
       "        0.91372549, 0.64705882, 0.        , 0.        , 0.00784314,\n",
       "        0.        , 0.        , 0.        ],\n",
       "       [0.        , 0.        , 0.        , 0.00392157, 0.        ,\n",
       "        0.        , 0.78039216, 0.98431373, 0.89411765, 0.91764706,\n",
       "        0.91372549, 0.9254902 , 0.92156863, 0.96078431, 0.96862745,\n",
       "        0.92941176, 0.91764706, 0.9372549 , 0.90196078, 0.90196078,\n",
       "        0.92156863, 1.        , 0.69019608, 0.        , 0.        ,\n",
       "        0.00392157, 0.        , 0.        ],\n",
       "       [0.        , 0.        , 0.        , 0.        , 0.        ,\n",
       "        0.31764706, 0.99607843, 0.88627451, 0.89411765, 0.9372549 ,\n",
       "        0.92941176, 0.9254902 , 0.91764706, 0.90980392, 0.91372549,\n",
       "        0.92156863, 0.92156863, 0.9254902 , 0.9372549 , 0.92941176,\n",
       "        0.91372549, 0.88235294, 0.96470588, 0.28627451, 0.        ,\n",
       "        0.        , 0.        , 0.        ],\n",
       "       [0.        , 0.        , 0.01176471, 0.        , 0.        ,\n",
       "        1.        , 0.92156863, 0.9372549 , 0.8745098 , 0.91764706,\n",
       "        0.93333333, 0.9254902 , 0.92941176, 0.9254902 , 0.92156863,\n",
       "        0.92156863, 0.92156863, 0.92156863, 0.9254902 , 0.92156863,\n",
       "        0.91764706, 0.90196078, 0.90588235, 1.        , 0.09411765,\n",
       "        0.        , 0.01568627, 0.        ],\n",
       "       [0.        , 0.        , 0.        , 0.        , 0.69411765,\n",
       "        0.9372549 , 0.8745098 , 0.99607843, 0.8745098 , 0.90980392,\n",
       "        0.91764706, 0.91764706, 0.9254902 , 0.9254902 , 0.92156863,\n",
       "        0.92156863, 0.92156863, 0.92156863, 0.92156863, 0.91764706,\n",
       "        0.90588235, 0.91372549, 0.87058824, 0.96470588, 0.34509804,\n",
       "        0.        , 0.00392157, 0.        ],\n",
       "       [0.        , 0.        , 0.        , 0.        , 0.91764706,\n",
       "        0.9372549 , 0.89803922, 1.        , 0.8627451 , 0.90980392,\n",
       "        0.91372549, 0.90980392, 0.91764706, 0.92156863, 0.92156863,\n",
       "        0.92156863, 0.92156863, 0.92156863, 0.91764706, 0.91372549,\n",
       "        0.90980392, 0.90196078, 0.89411765, 0.99607843, 0.54901961,\n",
       "        0.        , 0.        , 0.        ],\n",
       "       [0.        , 0.        , 0.        , 0.        , 0.88235294,\n",
       "        0.94117647, 0.88627451, 1.        , 0.86666667, 0.89019608,\n",
       "        0.90980392, 0.89411765, 0.90588235, 0.90196078, 0.89411765,\n",
       "        0.89803922, 0.90588235, 0.90196078, 0.89411765, 0.89411765,\n",
       "        0.90980392, 0.8745098 , 0.89803922, 0.95686275, 0.90588235,\n",
       "        0.        , 0.        , 0.        ],\n",
       "       [0.        , 0.        , 0.        , 0.18431373, 0.96078431,\n",
       "        0.90588235, 0.91764706, 0.97647059, 0.89803922, 0.86666667,\n",
       "        0.89803922, 0.88235294, 0.89803922, 0.89019608, 0.88627451,\n",
       "        0.89019608, 0.89411765, 0.89019608, 0.89411765, 0.89803922,\n",
       "        0.89411765, 0.87843137, 0.96470588, 0.94117647, 0.89019608,\n",
       "        0.        , 0.        , 0.        ],\n",
       "       [0.        , 0.        , 0.        , 0.2       , 0.97254902,\n",
       "        0.90196078, 0.96078431, 0.96470588, 0.90196078, 0.88627451,\n",
       "        0.90196078, 0.89019608, 0.90196078, 0.89803922, 0.89411765,\n",
       "        0.89803922, 0.90196078, 0.89411765, 0.89411765, 0.90588235,\n",
       "        0.88235294, 0.89019608, 0.94901961, 0.92941176, 1.        ,\n",
       "        0.        , 0.        , 0.        ],\n",
       "       [0.        , 0.        , 0.        , 0.39607843, 0.99215686,\n",
       "        0.89803922, 0.96862745, 0.94509804, 0.86666667, 0.91372549,\n",
       "        0.89411765, 0.89019608, 0.89803922, 0.89411765, 0.89019608,\n",
       "        0.89411765, 0.90196078, 0.89019608, 0.90196078, 0.91764706,\n",
       "        0.88235294, 0.89803922, 0.98431373, 0.89803922, 0.95294118,\n",
       "        0.21568627, 0.        , 0.        ],\n",
       "       [0.        , 0.        , 0.        , 0.4       , 1.        ,\n",
       "        0.89019608, 0.94901961, 0.94509804, 0.86666667, 0.91764706,\n",
       "        0.8745098 , 0.90196078, 0.89411765, 0.90588235, 0.89803922,\n",
       "        0.90588235, 0.90588235, 0.89019608, 0.89803922, 0.94509804,\n",
       "        0.85882353, 0.9254902 , 0.99607843, 0.88235294, 0.98039216,\n",
       "        0.65490196, 0.        , 0.        ],\n",
       "       [0.        , 0.        , 0.        , 0.35294118, 1.        ,\n",
       "        0.89803922, 0.9254902 , 0.90588235, 0.87058824, 0.9254902 ,\n",
       "        0.8745098 , 0.90588235, 0.89803922, 0.90588235, 0.89803922,\n",
       "        0.90588235, 0.90588235, 0.89411765, 0.87843137, 0.96078431,\n",
       "        0.85490196, 0.95294118, 0.9372549 , 0.89019608, 0.95686275,\n",
       "        0.68627451, 0.        , 0.        ],\n",
       "       [0.        , 0.        , 0.        , 0.83137255, 0.98039216,\n",
       "        0.88235294, 0.9254902 , 0.97647059, 0.89803922, 0.92941176,\n",
       "        0.8745098 , 0.90588235, 0.89803922, 0.90588235, 0.89803922,\n",
       "        0.90588235, 0.90588235, 0.90196078, 0.86666667, 0.95294118,\n",
       "        0.88235294, 0.97254902, 0.90196078, 0.9254902 , 0.91764706,\n",
       "        1.        , 0.00392157, 0.        ],\n",
       "       [0.        , 0.        , 0.        , 0.96078431, 0.95294118,\n",
       "        0.90980392, 0.95294118, 0.85490196, 0.89411765, 0.93333333,\n",
       "        0.87058824, 0.90588235, 0.89803922, 0.90588235, 0.89803922,\n",
       "        0.90588235, 0.90588235, 0.90196078, 0.87058824, 0.92941176,\n",
       "        0.92941176, 0.98823529, 0.89803922, 0.9372549 , 0.94117647,\n",
       "        0.8745098 , 0.        , 0.        ],\n",
       "       [0.        , 0.        , 0.10588235, 1.        , 0.92156863,\n",
       "        0.94901961, 0.92941176, 0.84705882, 0.90196078, 0.9254902 ,\n",
       "        0.87843137, 0.89803922, 0.89019608, 0.91372549, 0.91372549,\n",
       "        0.91372549, 0.90196078, 0.89411765, 0.87843137, 0.90196078,\n",
       "        0.96078431, 0.96862745, 0.86666667, 0.95294118, 0.9372549 ,\n",
       "        0.98823529, 0.        , 0.        ],\n",
       "       [0.        , 0.        , 0.34509804, 1.        , 0.90980392,\n",
       "        0.97254902, 0.9254902 , 0.81568627, 0.91764706, 0.90588235,\n",
       "        0.8745098 , 0.89019608, 0.88627451, 0.91372549, 0.90980392,\n",
       "        0.90980392, 0.90196078, 0.89411765, 0.87843137, 0.87843137,\n",
       "        0.92156863, 0.91372549, 0.91764706, 0.96862745, 0.92156863,\n",
       "        1.        , 0.        , 0.        ],\n",
       "       [0.        , 0.        , 0.3254902 , 1.        , 0.88235294,\n",
       "        0.98039216, 0.92941176, 0.87843137, 0.9254902 , 0.89803922,\n",
       "        0.88235294, 0.88235294, 0.89019608, 0.92156863, 0.89803922,\n",
       "        0.90588235, 0.90196078, 0.90196078, 0.89019608, 0.86666667,\n",
       "        0.89019608, 0.86666667, 0.9372549 , 0.98039216, 0.90588235,\n",
       "        1.        , 0.        , 0.        ],\n",
       "       [0.        , 0.        , 0.07843137, 1.        , 0.87843137,\n",
       "        0.97254902, 0.91764706, 0.88627451, 0.90980392, 0.87058824,\n",
       "        0.88235294, 0.87843137, 0.90588235, 0.93333333, 0.88627451,\n",
       "        0.90196078, 0.89411765, 0.90196078, 0.90196078, 0.86666667,\n",
       "        0.89803922, 0.88235294, 0.95686275, 0.96470588, 0.90196078,\n",
       "        1.        , 0.        , 0.        ],\n",
       "       [0.        , 0.        , 0.37254902, 1.        , 0.85490196,\n",
       "        0.94901961, 1.        , 0.90980392, 0.88627451, 0.87843137,\n",
       "        0.89803922, 0.89411765, 0.89411765, 0.90980392, 0.89411765,\n",
       "        0.89803922, 0.90588235, 0.91372549, 0.90980392, 0.88627451,\n",
       "        0.86666667, 0.87843137, 0.96862745, 0.95686275, 0.89411765,\n",
       "        1.        , 0.        , 0.        ],\n",
       "       [0.        , 0.        , 0.65490196, 1.        , 0.83529412,\n",
       "        0.92156863, 1.        , 0.31764706, 0.96078431, 0.98431373,\n",
       "        0.93333333, 0.9254902 , 0.90196078, 0.89803922, 0.90196078,\n",
       "        0.89803922, 0.90196078, 0.90588235, 0.93333333, 0.94117647,\n",
       "        1.        , 0.75294118, 1.        , 0.9372549 , 0.89411765,\n",
       "        1.        , 0.09019608, 0.        ],\n",
       "       [0.        , 0.        , 0.67843137, 0.94901961, 0.87843137,\n",
       "        0.91372549, 1.        , 0.        , 0.53333333, 0.88627451,\n",
       "        0.9372549 , 1.        , 0.89803922, 0.9254902 , 0.9254902 ,\n",
       "        0.91764706, 0.91372549, 0.89411765, 0.98431373, 0.97254902,\n",
       "        0.78431373, 0.31764706, 1.        , 0.92941176, 0.88235294,\n",
       "        1.        , 0.39607843, 0.        ],\n",
       "       [0.        , 0.        , 0.6745098 , 1.        , 0.88627451,\n",
       "        0.91372549, 1.        , 0.        , 0.        , 0.        ,\n",
       "        0.        , 0.        , 0.03137255, 0.08235294, 0.08627451,\n",
       "        0.08235294, 0.07843137, 0.05490196, 0.        , 0.        ,\n",
       "        0.        , 0.        , 1.        , 0.93333333, 0.89803922,\n",
       "        0.96470588, 0.69803922, 0.        ],\n",
       "       [0.        , 0.        , 0.0627451 , 1.        , 0.9254902 ,\n",
       "        0.93333333, 0.98823529, 0.        , 0.        , 0.        ,\n",
       "        0.        , 0.        , 0.        , 0.        , 0.        ,\n",
       "        0.        , 0.        , 0.        , 0.        , 0.        ,\n",
       "        0.        , 0.        , 0.87058824, 0.95686275, 0.87058824,\n",
       "        0.99607843, 0.46666667, 0.        ],\n",
       "       [0.        , 0.        , 0.        , 0.11764706, 0.89411765,\n",
       "        0.94901961, 0.63921569, 0.        , 0.        , 0.        ,\n",
       "        0.        , 0.00784314, 0.01568627, 0.02352941, 0.01960784,\n",
       "        0.01960784, 0.01568627, 0.01568627, 0.00784314, 0.        ,\n",
       "        0.00392157, 0.        , 0.59215686, 0.98431373, 0.92156863,\n",
       "        0.70588235, 0.        , 0.        ],\n",
       "       [0.        , 0.        , 0.        , 0.        , 0.91764706,\n",
       "        1.        , 0.74901961, 0.        , 0.04313725, 0.        ,\n",
       "        0.        , 0.        , 0.        , 0.        , 0.        ,\n",
       "        0.        , 0.        , 0.        , 0.        , 0.        ,\n",
       "        0.01568627, 0.        , 0.40392157, 0.96470588, 0.96862745,\n",
       "        0.28235294, 0.        , 0.        ],\n",
       "       [0.        , 0.        , 0.        , 0.00392157, 0.37254902,\n",
       "        0.30196078, 0.20392157, 0.        , 0.01568627, 0.        ,\n",
       "        0.        , 0.        , 0.        , 0.        , 0.        ,\n",
       "        0.        , 0.        , 0.        , 0.        , 0.        ,\n",
       "        0.01176471, 0.        , 0.32156863, 0.92941176, 0.90588235,\n",
       "        0.2745098 , 0.        , 0.        ]])"
      ]
     },
     "execution_count": 7,
     "metadata": {},
     "output_type": "execute_result"
    }
   ],
   "source": [
    "train_images[7]"
   ]
  },
  {
   "cell_type": "code",
   "execution_count": 8,
   "metadata": {},
   "outputs": [
    {
     "data": {
      "text/plain": [
       "2"
      ]
     },
     "execution_count": 8,
     "metadata": {},
     "output_type": "execute_result"
    }
   ],
   "source": [
    "train_labels[7]"
   ]
  },
  {
   "cell_type": "markdown",
   "metadata": {},
   "source": [
    "# Building the model"
   ]
  },
  {
   "cell_type": "markdown",
   "metadata": {},
   "source": [
    "Flatten the data to get 28*28= 784 inputs and for output we can have one node for each class, thus 10 outputs, each giving the prob using softmax. The one with highest prob is the predicted class. One hidden layer with 128 neurons"
   ]
  },
  {
   "cell_type": "code",
   "execution_count": null,
   "metadata": {},
   "outputs": [],
   "source": [
    "model= keras.Sequential([\n",
    "    keras.layers.Flatten(input_shape=(28,28)),\n",
    "    keras.layers.Dense(128, activation='relu'),\n",
    "    keras.layers.Dense(10, activation= 'softmax')\n",
    "])\n",
    "\n",
    "print(model.summary)\n",
    "model.compile(optimizer='adam', loss='sparse_categorical_crossentropy', metrics=['accuracy'])\n",
    "model.fit(train_images, train_labels, epochs=5, batch= 32)\n",
    "\n",
    "\n",
    "#evaluate on test data\n",
    "test_loss, test_acc= model.evaluate(test_images, test_labels)\n",
    "\n",
    "print(\"Test accuracy\", test_acc)"
   ]
  },
  {
   "cell_type": "code",
   "execution_count": null,
   "metadata": {},
   "outputs": [],
   "source": [
    "y_train = keras.utils.to_categorical(y_train, 10)\n",
    "y_test = keras.utils.to_categorical(y_test, 10)\n",
    "\n",
    "model = Sequential()\n",
    "model.add(Conv2D(32, (5, 5), activation='relu', input_shape=[28, 28, 1]))\n",
    "model.add(Conv2D(64, (5, 5), activation='relu'))\n",
    "model.add(MaxPool2D(pool_size=(2, 2)))\n",
    "model.add(Flatten())\n",
    "model.add(Dropout(0.5))\n",
    "model.add(Dense(128, activation='relu'))\n",
    "model.add(Dropout(0.5))\n",
    "model.add(Dense(10, activation='softmax'))\n"
   ]
  }
 ],
 "metadata": {
  "kernelspec": {
   "display_name": "Python 3",
   "language": "python",
   "name": "python3"
  },
  "language_info": {
   "codemirror_mode": {
    "name": "ipython",
    "version": 3
   },
   "file_extension": ".py",
   "mimetype": "text/x-python",
   "name": "python",
   "nbconvert_exporter": "python",
   "pygments_lexer": "ipython3",
   "version": "3.7.7"
  }
 },
 "nbformat": 4,
 "nbformat_minor": 4
}
